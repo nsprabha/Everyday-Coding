{
  "nbformat": 4,
  "nbformat_minor": 0,
  "metadata": {
    "colab": {
      "provenance": [],
      "authorship_tag": "ABX9TyOcqMtMMEwf+3cgElk8cUYQ",
      "include_colab_link": true
    },
    "kernelspec": {
      "name": "python3",
      "display_name": "Python 3"
    },
    "language_info": {
      "name": "python"
    }
  },
  "cells": [
    {
      "cell_type": "markdown",
      "metadata": {
        "id": "view-in-github",
        "colab_type": "text"
      },
      "source": [
        "<a href=\"https://colab.research.google.com/github/nsprabha/Everyday-Coding/blob/main/everydaycodingdsa.ipynb\" target=\"_parent\"><img src=\"https://colab.research.google.com/assets/colab-badge.svg\" alt=\"Open In Colab\"/></a>"
      ]
    },
    {
      "cell_type": "markdown",
      "source": [
        "Recursion\n"
      ],
      "metadata": {
        "id": "M1AWTV7N8w1M"
      }
    },
    {
      "cell_type": "code",
      "execution_count": 2,
      "metadata": {
        "colab": {
          "base_uri": "https://localhost:8080/"
        },
        "id": "IdvhORFI8rml",
        "outputId": "293d09a0-9faf-42a9-d4f6-6be696c591ed"
      },
      "outputs": [
        {
          "output_type": "execute_result",
          "data": {
            "text/plain": [
              "10"
            ]
          },
          "metadata": {},
          "execution_count": 2
        }
      ],
      "source": [
        "#sum of list\n",
        "\n",
        "def sum_of_list(n):\n",
        "  if len(n)==1:\n",
        "    return n[0]\n",
        "  else:\n",
        "    return n[-1]+sum_of_list(n[:-1])\n",
        "sum_of_list([1,2,3,4])"
      ]
    },
    {
      "cell_type": "code",
      "source": [
        "#fibonacci\n",
        "\n",
        "def fib(n):\n",
        "  if n==0:\n",
        "    return 0\n",
        "  if n==1:\n",
        "    return 1\n",
        "  else:\n",
        "    return fib(n-1)+fib(n-2)\n",
        "fib(5)"
      ],
      "metadata": {
        "colab": {
          "base_uri": "https://localhost:8080/"
        },
        "id": "aK_9hdNc90fq",
        "outputId": "4c4070d2-4a0a-450c-81ee-cd946e879f69"
      },
      "execution_count": 7,
      "outputs": [
        {
          "output_type": "execute_result",
          "data": {
            "text/plain": [
              "5"
            ]
          },
          "metadata": {},
          "execution_count": 7
        }
      ]
    },
    {
      "cell_type": "code",
      "source": [
        "#print 1 to n\n",
        "\n",
        "def sumn(n):\n",
        "  if n==1:\n",
        "    return 1\n",
        "  else:\n",
        "    return n+sumn(n-1)\n",
        "\n",
        "sumn(5)"
      ],
      "metadata": {
        "colab": {
          "base_uri": "https://localhost:8080/"
        },
        "id": "_EopOpuADgvv",
        "outputId": "61017b97-af53-4c4c-e120-e4d311ac6996"
      },
      "execution_count": 8,
      "outputs": [
        {
          "output_type": "execute_result",
          "data": {
            "text/plain": [
              "15"
            ]
          },
          "metadata": {},
          "execution_count": 8
        }
      ]
    },
    {
      "cell_type": "code",
      "source": [
        "#multiply 2 numbers\n",
        "\n",
        "def mul(a,b):\n",
        "  if b==1:\n",
        "    return a\n",
        "  else:\n",
        "    return a+mul(a,b-1)\n",
        "mul(3,4)"
      ],
      "metadata": {
        "colab": {
          "base_uri": "https://localhost:8080/"
        },
        "id": "KmrE7_okErSu",
        "outputId": "027ad66d-8e7a-4780-a7a9-889b65d22744"
      },
      "execution_count": 9,
      "outputs": [
        {
          "output_type": "execute_result",
          "data": {
            "text/plain": [
              "12"
            ]
          },
          "metadata": {},
          "execution_count": 9
        }
      ]
    },
    {
      "cell_type": "code",
      "source": [
        "#sum of digits of number\n",
        "\n",
        "def dig(a):\n",
        "  if a<10:\n",
        "    return a\n",
        "  else:\n",
        "   # print(a,a//10)\n",
        "    return (a%10) +dig(a//10)\n",
        "dig(123)"
      ],
      "metadata": {
        "colab": {
          "base_uri": "https://localhost:8080/"
        },
        "id": "MN_1OBaUFIDV",
        "outputId": "9d95c5f2-b67f-418e-aea9-0928cedcd479"
      },
      "execution_count": 6,
      "outputs": [
        {
          "output_type": "execute_result",
          "data": {
            "text/plain": [
              "6"
            ]
          },
          "metadata": {},
          "execution_count": 6
        }
      ]
    },
    {
      "cell_type": "code",
      "source": [
        "#length of string\n",
        "\n",
        "def lenstring(a):\n",
        "  if a==\"\":\n",
        "    return 0\n",
        "  if a in \"qwertyuiopasdfghjklzxcvbnm\":\n",
        "    return 1\n",
        "  else:\n",
        "    return 1+lenstring(a[:-1])\n",
        "lenstring(\"hello\")"
      ],
      "metadata": {
        "colab": {
          "base_uri": "https://localhost:8080/"
        },
        "id": "xTDG2Z5bFsD3",
        "outputId": "3b2709a6-5fd4-4a01-ae42-a09e15a75dbd"
      },
      "execution_count": 7,
      "outputs": [
        {
          "output_type": "execute_result",
          "data": {
            "text/plain": [
              "5"
            ]
          },
          "metadata": {},
          "execution_count": 7
        }
      ]
    },
    {
      "cell_type": "code",
      "source": [
        "#value of nCr\n",
        "\n",
        "def ncr(n):\n",
        "  if n<=3:\n",
        "    return n\n",
        "  else:\n",
        "    return ncr()/ncr(n-1)\n"
      ],
      "metadata": {
        "id": "BzTwQYP6G30u"
      },
      "execution_count": null,
      "outputs": []
    },
    {
      "cell_type": "code",
      "source": [
        "#fibonacci in reverse order\n",
        "\n",
        "def fib(n):\n",
        "  if n==0:\n",
        "    return 0\n",
        "  if n==1:\n",
        "    return 1\n",
        "  else:\n",
        "    print(fib(n-1), end=\"\")\n",
        "    return fib(n-1)+fib(n-2)\n",
        "fib(5)"
      ],
      "metadata": {
        "colab": {
          "base_uri": "https://localhost:8080/"
        },
        "id": "uYft7rWsIykU",
        "outputId": "c24829ea-aaa9-4d67-da28-2afb8b91d75a"
      },
      "execution_count": 11,
      "outputs": [
        {
          "output_type": "stream",
          "name": "stdout",
          "text": [
            "11121111311121111111"
          ]
        },
        {
          "output_type": "execute_result",
          "data": {
            "text/plain": [
              "5"
            ]
          },
          "metadata": {},
          "execution_count": 11
        }
      ]
    },
    {
      "cell_type": "code",
      "source": [
        "#recursive function to reverse string\n",
        "def rev(a):\n",
        "  if len(a)==0:\n",
        "    return \"\"\n",
        "  if len(a)==1:\n",
        "    return a\n",
        "  else:\n",
        "    return a[-1]+rev(a[:-1])\n",
        "\n",
        "rev(\"hello\")"
      ],
      "metadata": {
        "colab": {
          "base_uri": "https://localhost:8080/",
          "height": 36
        },
        "id": "jXmLRnz_I43z",
        "outputId": "a71b21a2-725a-4f53-9b95-c742df95e3d3"
      },
      "execution_count": 14,
      "outputs": [
        {
          "output_type": "execute_result",
          "data": {
            "text/plain": [
              "'olleh'"
            ],
            "application/vnd.google.colaboratory.intrinsic+json": {
              "type": "string"
            }
          },
          "metadata": {},
          "execution_count": 14
        }
      ]
    },
    {
      "cell_type": "code",
      "source": [
        "#tower of hanoi\n",
        "\n",
        "def toh(n,a,b,c):"
      ],
      "metadata": {
        "id": "aa1lmq8ANUXd"
      },
      "execution_count": null,
      "outputs": []
    }
  ]
}